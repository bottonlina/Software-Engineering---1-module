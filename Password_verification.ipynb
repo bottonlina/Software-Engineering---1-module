{
  "nbformat": 4,
  "nbformat_minor": 0,
  "metadata": {
    "colab": {
      "name": "Password verification",
      "provenance": [],
      "collapsed_sections": [],
      "authorship_tag": "ABX9TyN+77o9wd6TA81MScYZ0ND0"
    },
    "kernelspec": {
      "name": "python3",
      "display_name": "Python 3"
    },
    "language_info": {
      "name": "python"
    }
  },
  "cells": [
    {
      "cell_type": "markdown",
      "source": [
        "### PRATICANDO\n",
        "##### Verificador de senhas do usuário - Estruturas condicionais - Python"
      ],
      "metadata": {
        "id": "GzfDZwrNLSw1"
      }
    },
    {
      "cell_type": "code",
      "execution_count": 7,
      "metadata": {
        "colab": {
          "base_uri": "https://localhost:8080/"
        },
        "id": "dhuBg11yLGsj",
        "outputId": "e72e4b7c-86dc-4fed-fcdb-593adf7753b3"
      },
      "outputs": [
        {
          "output_type": "stream",
          "name": "stdout",
          "text": [
            "Inform your login: userpy\n",
            "Inform your password: testing123\n",
            "Welcome userpy01\n"
          ]
        }
      ],
      "source": [
        "login = input(\"Inform your login: \")\n",
        "password = input(\"Inform your password: \")\n",
        "if login == \"userpy\" and password == \"testing123\":\n",
        "   print(\"Welcome userpy01\")\n",
        "else:\n",
        "   print(\"login failed, verify your password and try again\")"
      ]
    }
  ]
}