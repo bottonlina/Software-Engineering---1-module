{
  "nbformat": 4,
  "nbformat_minor": 0,
  "metadata": {
    "colab": {
      "provenance": [],
      "collapsed_sections": [],
      "authorship_tag": "ABX9TyOM//QPJKgm8bAUFKaSBrO7",
      "include_colab_link": true
    },
    "kernelspec": {
      "name": "python3",
      "display_name": "Python 3"
    },
    "language_info": {
      "name": "python"
    }
  },
  "cells": [
    {
      "cell_type": "markdown",
      "metadata": {
        "id": "view-in-github",
        "colab_type": "text"
      },
      "source": [
        "<a href=\"https://colab.research.google.com/github/bottonlina/Software-Engineering-Subject-PROG.LANGUAGE/blob/main/Calculadora%20de%20IMC.ipynb\" target=\"_parent\"><img src=\"https://colab.research.google.com/assets/colab-badge.svg\" alt=\"Open In Colab\"/></a>"
      ]
    },
    {
      "cell_type": "markdown",
      "source": [
        "**Calculadora de IMC**"
      ],
      "metadata": {
        "id": "REuVIVMUs_yc"
      }
    },
    {
      "cell_type": "code",
      "execution_count": 29,
      "metadata": {
        "colab": {
          "base_uri": "https://localhost:8080/"
        },
        "id": "mRaS-WRDjjvH",
        "outputId": "a0b4541c-c789-4aa4-837f-353e9ee6bdfd"
      },
      "outputs": [
        {
          "output_type": "stream",
          "name": "stdout",
          "text": [
            "Digite o seu peso aqui: 60\n",
            "Digite a sua altura aqui: 1.64\n",
            "O seu IMC atual e: 22.3\n",
            "Otima noticia! voce esta dentro do peso recomendado.\n"
          ]
        }
      ],
      "source": [
        "peso = float(input(\"Digite o seu peso aqui: \"))\n",
        "altura = float(input(\"Digite a sua altura aqui: \"))\n",
        "\n",
        "imc = peso / (altura**2)\n",
        "\n",
        "print('O seu IMC atual e: {:.1f}'.format(imc))\n",
        "\n",
        "if imc < 18.5:\n",
        "  print('Cuidado,voce esta abaixo do peso recomendado!')\n",
        "elif 18.5 <= imc < 25:\n",
        "  print('Otima noticia! voce esta dentro do peso recomendado.')\n",
        "elif 25 <= imc < 30:\n",
        "  print('Atencao! voce esta com sobrepeso.')\n",
        "elif 30 <= imc < 40:\n",
        "  print('Cuidado! voce esta obeso.')\n",
        "else:\n",
        "  print('Muito cuidado! voce esta com obesidade morbida.')\n",
        "\n",
        "\n",
        "  "
      ]
    },
    {
      "cell_type": "markdown",
      "source": [
        "*Eu poderia substituir a última linha do código como:\n",
        "**elif imc >= 40:\"** e realizar printagem. Porém, optei por deixar o código mais limpo e seguindo a lógica de condicional.*"
      ],
      "metadata": {
        "id": "_lD9f5mttTcr"
      }
    }
  ]
}