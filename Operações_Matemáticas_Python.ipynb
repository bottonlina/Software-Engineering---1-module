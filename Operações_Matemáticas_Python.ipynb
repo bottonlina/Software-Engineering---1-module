{
  "nbformat": 4,
  "nbformat_minor": 0,
  "metadata": {
    "colab": {
      "name": "Operações Matemáticas Python",
      "provenance": [],
      "collapsed_sections": [],
      "authorship_tag": "ABX9TyOK/Eqyo//POQfc01rJiS+q"
    },
    "kernelspec": {
      "name": "python3",
      "display_name": "Python 3"
    },
    "language_info": {
      "name": "python"
    }
  },
  "cells": [
    {
      "cell_type": "markdown",
      "source": [
        "#### Teste de Operações matemáticas"
      ],
      "metadata": {
        "id": "C7atHxde7SjP"
      }
    },
    {
      "cell_type": "code",
      "execution_count": 1,
      "metadata": {
        "colab": {
          "base_uri": "https://localhost:8080/"
        },
        "id": "4M1r7dAA6m2z",
        "outputId": "69ce0bf5-f396-4282-9b05-797ebad3383b"
      },
      "outputs": [
        {
          "output_type": "stream",
          "name": "stdout",
          "text": [
            "Resultado em operacao_1 = 32\n",
            "Resultado em operacao_2 = 50\n",
            "Resultado em operacao_3 = 5.0\n",
            "Resultado em operacao_4 = 6\n"
          ]
        }
      ],
      "source": [
        "# Qual o resultado armazendo na variável operacao_1: 25 ou 40? \n",
        "operacao_1 = 2 + 6 * 5\n",
        "\n",
        "# Qual o resultado armazendo na variável operacao_2: 50 ou 25? \n",
        "operacao_2 = (7 + 3) * 5\n",
        "\n",
        "# Qual o resultado armazendo na variável operacao_3: 4 ou 5?\n",
        "operacao_3 = 80 / 4 ** 2\n",
        "\n",
        "# Qual o resultado armazendo na variável operacao_4: 9 ou 8?\n",
        "operacao_4 = 35 % 3 + 4\n",
        "\n",
        "\n",
        "print(f\"Resultado em operacao_1 = {operacao_1}\")\n",
        "print(f\"Resultado em operacao_2 = {operacao_2}\")\n",
        "print(f\"Resultado em operacao_3 = {operacao_3}\")\n",
        "print(f\"Resultado em operacao_4 = {operacao_4}\")"
      ]
    }
  ]
}