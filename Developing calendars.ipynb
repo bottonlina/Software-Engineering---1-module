{
  "nbformat": 4,
  "nbformat_minor": 0,
  "metadata": {
    "colab": {
      "name": "Untitled22.ipynb",
      "provenance": [],
      "collapsed_sections": [],
      "authorship_tag": "ABX9TyOqZpwHbReMcQysAYpE1WKG"
    },
    "kernelspec": {
      "name": "python3",
      "display_name": "Python 3"
    },
    "language_info": {
      "name": "python"
    }
  },
  "cells": [
    {
      "cell_type": "markdown",
      "source": [
        "### Developing Calendars"
      ],
      "metadata": {
        "id": "DkxDFmRmHOJE"
      }
    },
    {
      "cell_type": "code",
      "execution_count": 3,
      "metadata": {
        "colab": {
          "base_uri": "https://localhost:8080/"
        },
        "id": "pnWYQFJ1FpxV",
        "outputId": "c4e0b994-f74c-42f3-9797-e3ceec503327"
      },
      "outputs": [
        {
          "output_type": "stream",
          "name": "stdout",
          "text": [
            "2021 , 10 of may\n"
          ]
        }
      ],
      "source": [
        "def convert_month_to_extensive(date):\n",
        "    month = '''january february march april may june july august september october november december'''.split()\n",
        "    d, m, y = date.split('/')\n",
        "    month_extensive = month[int(m) - 1] # The first month will be on zero position!\n",
        "    return f'{y} , {d} of {month_extensive}'\n",
        "\n",
        "print(convert_month_to_extensive('10/05/2021'))"
      ]
    }
  ]
}