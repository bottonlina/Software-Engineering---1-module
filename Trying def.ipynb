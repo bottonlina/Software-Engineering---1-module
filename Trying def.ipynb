{
  "nbformat": 4,
  "nbformat_minor": 0,
  "metadata": {
    "colab": {
      "name": "Untitled24.ipynb",
      "provenance": [],
      "collapsed_sections": [],
      "authorship_tag": "ABX9TyNYsIElxab4qKu+wtRSOypO"
    },
    "kernelspec": {
      "name": "python3",
      "display_name": "Python 3"
    },
    "language_info": {
      "name": "python"
    }
  },
  "cells": [
    {
      "cell_type": "markdown",
      "source": [
        "#### Teste def ()"
      ],
      "metadata": {
        "id": "NA0B5v4uxyVt"
      }
    },
    {
      "cell_type": "code",
      "execution_count": 3,
      "metadata": {
        "colab": {
          "base_uri": "https://localhost:8080/"
        },
        "id": "HDdgI8vCxx3a",
        "outputId": "c000ce0a-fbb5-46c2-f3ff-5450b9db0b7a"
      },
      "outputs": [
        {
          "output_type": "stream",
          "name": "stdout",
          "text": [
            "Have a good morning, Judith!\n"
          ]
        }
      ],
      "source": [
        "def print_message(time, name):\n",
        "  print(f\"Have a good {time}, {name}!\")\n",
        "\n",
        "print_message(\"morning\", \"Judith\")"
      ]
    }
  ]
}