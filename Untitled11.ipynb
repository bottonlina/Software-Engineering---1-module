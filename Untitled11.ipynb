{
  "nbformat": 4,
  "nbformat_minor": 0,
  "metadata": {
    "colab": {
      "name": "Untitled11.ipynb",
      "provenance": [],
      "collapsed_sections": [],
      "authorship_tag": "ABX9TyOvER1miAc/7kbBYW7l0vwz"
    },
    "kernelspec": {
      "name": "python3",
      "display_name": "Python 3"
    },
    "language_info": {
      "name": "python"
    }
  },
  "cells": [
    {
      "cell_type": "markdown",
      "source": [
        "#### Primeiro exercicio em Python"
      ],
      "metadata": {
        "id": "hjhj-AcHdIgl"
      }
    },
    {
      "cell_type": "code",
      "execution_count": 1,
      "metadata": {
        "colab": {
          "base_uri": "https://localhost:8080/"
        },
        "id": "I2o4I9fjcr4O",
        "outputId": "e15817ee-afa5-49b7-975a-7079b94d762b"
      },
      "outputs": [
        {
          "output_type": "stream",
          "name": "stdout",
          "text": [
            "<class 'int'>\n",
            "<class 'str'>\n",
            "<class 'float'>\n",
            "<class 'bool'>\n"
          ]
        }
      ],
      "source": [
        "x = 10\n",
        "nome = 'aluno'\n",
        "nota = 8.75\n",
        "fez_inscricao = True\n",
        "\n",
        "print(type(x))\n",
        "print(type(nome))\n",
        "print(type(nota))\n",
        "print(type(fez_inscricao))"
      ]
    },
    {
      "cell_type": "markdown",
      "source": [
        "#### Hello World a la Python"
      ],
      "metadata": {
        "id": "pea1QZxPho4j"
      }
    },
    {
      "cell_type": "code",
      "source": [
        "nome = input(\"Digite seu nome: \")\n",
        "print(nome)"
      ],
      "metadata": {
        "colab": {
          "base_uri": "https://localhost:8080/"
        },
        "id": "bVX40K0ch3O0",
        "outputId": "2e8db7a8-ef1a-44e3-a7e2-d7f4143cb546"
      },
      "execution_count": 2,
      "outputs": [
        {
          "output_type": "stream",
          "name": "stdout",
          "text": [
            "Digite seu nome: Alice\n",
            "Alice\n"
          ]
        }
      ]
    },
    {
      "cell_type": "markdown",
      "source": [
        "#### Formatação de Strings"
      ],
      "metadata": {
        "id": "L591ZArOi4sk"
      }
    },
    {
      "cell_type": "code",
      "source": [
        "# Modo 1 - usando formatadores de caracteres (igual na linguagem C) para imprimir variável e texto\n",
        "\n",
        "nome = input(\"Digite seu nome: \")\n",
        "print(\"Olá %s, bem vindo a disciplina de Linguagem de programação. Parabéns pelo seu primeiro hello world!!\" % (nome))"
      ],
      "metadata": {
        "colab": {
          "base_uri": "https://localhost:8080/"
        },
        "id": "1RtuFAXcjmpj",
        "outputId": "233484c5-807f-4bdc-f812-e7688d21d6a8"
      },
      "execution_count": 5,
      "outputs": [
        {
          "output_type": "stream",
          "name": "stdout",
          "text": [
            "Digite seu nome: Alice\n",
            "Olá Alice, bem vindo a disciplina de Linguagem de programação. Parabéns pelo seu primeiro hello world!!\n"
          ]
        }
      ]
    }
  ]
}