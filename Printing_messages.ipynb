{
  "nbformat": 4,
  "nbformat_minor": 0,
  "metadata": {
    "colab": {
      "name": "Untitled23.ipynb",
      "provenance": [],
      "collapsed_sections": [],
      "authorship_tag": "ABX9TyNBFOCc4hgw74krSn0N+tY0"
    },
    "kernelspec": {
      "name": "python3",
      "display_name": "Python 3"
    },
    "language_info": {
      "name": "python"
    }
  },
  "cells": [
    {
      "cell_type": "code",
      "execution_count": 1,
      "metadata": {
        "colab": {
          "base_uri": "https://localhost:8080/"
        },
        "id": "Zq1SPDEMKKAf",
        "outputId": "fabf70ee-d74e-4bfd-8c7a-9c20e6d4057b"
      },
      "outputs": [
        {
          "output_type": "stream",
          "name": "stdout",
          "text": [
            "My first function in Python was developed, through Programming Language subject, during my Software Engineeering! \n"
          ]
        }
      ],
      "source": [
        "def print_message(subject, course):\n",
        "  return f\"My first function in Python was developed, through {subject} subject, during my {course}! \"\n",
        "\n",
        "message = print_message(\"Programming Language\", \"Software Engineeering\")\n",
        "print(message)"
      ]
    }
  ]
}