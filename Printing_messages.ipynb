{
  "nbformat": 4,
  "nbformat_minor": 0,
  "metadata": {
    "colab": {
      "name": "Untitled23.ipynb",
      "provenance": [],
      "collapsed_sections": [],
      "authorship_tag": "ABX9TyPjD2ZDETYLeJLmE8dRNyKv"
    },
    "kernelspec": {
      "name": "python3",
      "display_name": "Python 3"
    },
    "language_info": {
      "name": "python"
    }
  },
  "cells": [
    {
      "cell_type": "code",
      "execution_count": 2,
      "metadata": {
        "colab": {
          "base_uri": "https://localhost:8080/"
        },
        "id": "Zq1SPDEMKKAf",
        "outputId": "2b494881-e36a-4ed4-9ab8-ea1035ce01cd"
      },
      "outputs": [
        {
          "output_type": "stream",
          "name": "stdout",
          "text": [
            "My first function in Python was developed, through Programming Language subject, during my Software Engineeering course! \n"
          ]
        }
      ],
      "source": [
        "def print_message(subject, course):\n",
        "  return f\"My first function in Python was developed, through {subject} subject, during my {course} course! \"\n",
        "\n",
        "message = print_message(\"Programming Language\", \"Software Engineeering\")\n",
        "print(message)"
      ]
    }
  ]
}