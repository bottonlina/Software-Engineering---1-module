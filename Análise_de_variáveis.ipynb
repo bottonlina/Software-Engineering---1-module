{
  "nbformat": 4,
  "nbformat_minor": 0,
  "metadata": {
    "colab": {
      "name": "Untitled21.ipynb",
      "provenance": [],
      "collapsed_sections": [],
      "authorship_tag": "ABX9TyPtR/b0764VHofu4D6wFHUK"
    },
    "kernelspec": {
      "name": "python3",
      "display_name": "Python 3"
    },
    "language_info": {
      "name": "python"
    }
  },
  "cells": [
    {
      "cell_type": "markdown",
      "source": [
        "##### Análise de variáveis"
      ],
      "metadata": {
        "id": "LDBbdc6CCu7a"
      }
    },
    {
      "cell_type": "code",
      "execution_count": 1,
      "metadata": {
        "colab": {
          "base_uri": "https://localhost:8080/"
        },
        "id": "Igiga9HlCZfl",
        "outputId": "72aa40b1-d686-4bbb-f184-70be2747985a"
      },
      "outputs": [
        {
          "output_type": "stream",
          "name": "stdout",
          "text": [
            "Minha primeira função em Python desenvolvida na disciplina: Python, do curso: ADS.\n"
          ]
        }
      ],
      "source": [
        "def imprimir_mensagem(disciplina, curso):\n",
        "    print(f\"Minha primeira função em Python desenvolvida na disciplina: {disciplina}, do curso: {curso}.\")\n",
        "\n",
        "    \n",
        "imprimir_mensagem(\"Python\", \"ADS\")"
      ]
    },
    {
      "cell_type": "code",
      "source": [
        "def print_mesage(subject, course):\n",
        "    print(f\"My first function in Python, developed during the subject {subject}, from {course} course.\")\n",
        "\n",
        "    \n",
        "print_mesage(\"Python\", \"Software Engineering\")"
      ],
      "metadata": {
        "colab": {
          "base_uri": "https://localhost:8080/"
        },
        "id": "fbVJLIrLElt6",
        "outputId": "0088fdea-5e1a-4b62-e08a-1105f67b6d85"
      },
      "execution_count": 5,
      "outputs": [
        {
          "output_type": "stream",
          "name": "stdout",
          "text": [
            "My first function in Python, developed during the subject Python, from Software Engineering course.\n"
          ]
        }
      ]
    }
  ]
}